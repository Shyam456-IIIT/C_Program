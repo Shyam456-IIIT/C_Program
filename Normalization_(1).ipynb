{
  "nbformat": 4,
  "nbformat_minor": 0,
  "metadata": {
    "colab": {
      "provenance": [],
      "include_colab_link": true
    },
    "kernelspec": {
      "name": "python3",
      "display_name": "Python 3"
    },
    "language_info": {
      "name": "python"
    }
  },
  "cells": [
    {
      "cell_type": "markdown",
      "metadata": {
        "id": "view-in-github",
        "colab_type": "text"
      },
      "source": [
        "<a href=\"https://colab.research.google.com/github/Shyam456-IIIT/C_Program/blob/main/Normalization_(1).ipynb\" target=\"_parent\"><img src=\"https://colab.research.google.com/assets/colab-badge.svg\" alt=\"Open In Colab\"/></a>"
      ]
    },
    {
      "cell_type": "markdown",
      "source": [
        "#### **Definition**\n",
        "*   **Normalization (Feature Scaling):** Normalization is the process of scaling numerical data to a standard range, typically to eliminate the influence of different units or scales across features..\n",
        "*  It is used to\n",
        "* Faster Convergence: Gradient descent works much better when all features are on similar scales\n",
        "\n",
        "* Prevents Dominance: No single feature can dominate the learning process\n",
        "\n",
        "* Numerical Stability: Reduces issues with floating-point precision\n",
        "\n",
        "\n",
        "\n",
        "* *Common Normalization methods :*\n",
        "  *   Min-Max Normalization\n",
        "  *   Z-Score Normalization\n",
        "  *   Decimal Scaling Normalization\n",
        "* **Importance** Many machine learning algorithms (like those that calculate distances) are sensitive to the scale of the data. If one feature has a huge range (e.g., salary from 30,000 to 100,000) and another has a small one (e.g., age from 20 to 60), the feature with the larger range will unfairly have more influence on the result."
      ],
      "metadata": {
        "id": "fGPui8EXPWjl"
      }
    },
    {
      "cell_type": "markdown",
      "source": [
        "#### **1. The Min-Max Normalization Technique**\n",
        "This is the most common and intuitive technique. It squeezes or stretches all your data to fit into a range, usually **[0, 1]**.\n",
        "\n",
        "**Formula:**\n",
        "```\n",
        "X_normalized = (X - X_min) / (X_max - X_min)\n",
        "```\n",
        "\n",
        "**Here**\n",
        "*   **X**: The original value you want to normalize.\n",
        "*   **X_min**: The smallest value in the entire column.\n",
        "*   **X_max**: The largest value in the entire column.\n",
        "*   **X_normalized**: Your new, scaled value between 0 and 1.\n"
      ],
      "metadata": {
        "id": "80DIQrHAPigH"
      }
    },
    {
      "cell_type": "markdown",
      "source": [
        "**Example 1: Manual Calculation**\n",
        "\n",
        "Let's say we have the `Age` data for a group of people: `[20, 25, 30, 35, 80]`\n",
        "\n",
        "**Step 1: Find Min and Max**\n",
        "*   `X_min` = 20\n",
        "*   `X_max` = 80\n",
        "\n",
        "**Step 2: Apply the Formula**\n",
        "*   For the first person (Age=20):  \n",
        "    `(20 - 20) / (80 - 20) = 0 / 60 = 0.0`\n",
        "*   For the second person (Age=25):  \n",
        "    `(25 - 20) / (80 - 20) = 5 / 60 ≈ 0.083`\n",
        "*   For the last person (Age=80):  \n",
        "    `(80 - 20) / (80 - 20) = 60 / 60 = 1.0`\n",
        "\n",
        "**Result:** The normalized ages are `[0.0, 0.083, 0.167, 0.25, 1.0]`\n",
        "\n",
        "* **Explanation:** The youngest person becomes 0, the oldest becomes 1, and everyone else is scaled proportionally in between. Now, this `Age` data can be fairly compared with other scaled features, like income or height."
      ],
      "metadata": {
        "id": "MJmJCblHPvzo"
      }
    },
    {
      "cell_type": "markdown",
      "source": [
        "\n",
        "\n",
        "---\n"
      ],
      "metadata": {
        "id": "r5L_8E0kQhF3"
      }
    },
    {
      "cell_type": "code",
      "source": [
        "import pandas as pd\n",
        "from sklearn.preprocessing import MinMaxScaler\n",
        "''' This imports the MinMaxScaler class from scikit-learn's preprocessing module.\n",
        "  This tool  scales your data to a specified range (usually 0 to 1) using the formula: (x - min) / (max - min). '''\n",
        "\n",
        "# Sample data: 'Age' and 'Salary (£)'\n",
        "data = {'Age': [20, 25, 30, 35, 80],\n",
        "        'Salary (£)': [30000, 35000, 40000, 45000, 100000]}\n",
        "df = pd.DataFrame(data)\n",
        "\n",
        "print(\"Original Data:\")\n",
        "print(df)\n",
        "\n",
        "# Step 1: Create the scaler object\n",
        "scaler = MinMaxScaler()\n",
        "\n",
        "# Step 2: Fit the scaler to the data and then transform the data\n",
        "df_normalized = pd.DataFrame(scaler.fit_transform(df), columns=df.columns)\n",
        "'''This applies the MinMaxScaler to entire DataFrame (df), scaling all numerical columns to a range between 0 and 1.\n",
        "    It creates a new DataFrame (df_normalized) with the scaled values while preserving the original column names from your input DataFrame.'''\n",
        "df_normalized = df_normalized.round(2)#round DataFrame to 2 decimals\n",
        "print(\"\\nNormalized Data (0 to 1):\")\n",
        "print(df_normalized)\n"
      ],
      "metadata": {
        "colab": {
          "base_uri": "https://localhost:8080/"
        },
        "id": "dYaKTc1ARE0-",
        "outputId": "3f448d05-371d-41d8-c83e-e6b525fdf5d7"
      },
      "execution_count": null,
      "outputs": [
        {
          "output_type": "stream",
          "name": "stdout",
          "text": [
            "Original Data:\n",
            "   Age  Salary (£)\n",
            "0   20       30000\n",
            "1   25       35000\n",
            "2   30       40000\n",
            "3   35       45000\n",
            "4   80      100000\n",
            "\n",
            "Normalized Data (0 to 1):\n",
            "    Age  Salary (£)\n",
            "0  0.00        0.00\n",
            "1  0.08        0.07\n",
            "2  0.17        0.14\n",
            "3  0.25        0.21\n",
            "4  1.00        1.00\n"
          ]
        }
      ]
    },
    {
      "cell_type": "markdown",
      "source": [
        "**Explanation:**\n",
        "1.  `MinMaxScaler()`: This is our \"scaling machine\".\n",
        "2.  `.fit_transform(df)`: This does two things:\n",
        "    *   **.fit():** The scaler learns the `min` and `max` of each column in your data.\n",
        "    *   **.transform():** It uses the formula to scale all the data based on what it learned.\n"
      ],
      "metadata": {
        "id": "rHTNLRSURTmx"
      }
    },
    {
      "cell_type": "markdown",
      "source": [
        "Now both `Age` and `Salary` are on the same 0-to-1 scale! A salary of £100,000 is 1.0, just like an age of 80 is 1.0.\n",
        "\n"
      ],
      "metadata": {
        "id": "mfYlgwI8RbjV"
      }
    },
    {
      "cell_type": "markdown",
      "source": [
        "###"
      ],
      "metadata": {
        "id": "XTqzd9OBSEai"
      }
    },
    {
      "cell_type": "markdown",
      "source": [
        "### **2. Z-score Normalization (Standardization) Technique**\n",
        "Centers data around 0 and scales it based on *standard deviation*.\n",
        "\n",
        "**Formula:**  \n",
        "```\n",
        "x_standardized = (x - μ) / σ\n",
        "```\n",
        "\n",
        "**Here:**\n",
        "* `x` : The value you want to normalize .\n",
        "* `μ` : mean of the feature .\n",
        "* `σ` : standard deviation .\n",
        "* `x_standardized` : The scaled value between 0 and 1.\n",
        "\n"
      ],
      "metadata": {
        "id": "Z85HyvZASX-S"
      }
    },
    {
      "cell_type": "markdown",
      "source": [
        "\n",
        "**Example 1: Manual Calculation**\n",
        "\n",
        "Let's say we have the `Age` data for a group of people: `[20, 25, 30, 35, 80]`\n",
        "\n",
        "**Step 1: Find Mean and Standard deviation**\n",
        "*   `Mean` = 38\n",
        "*   `Standard deviation` = 21.59\n",
        "\n",
        "**Step 2: Apply the Formula**\n",
        "*   For the first person (Age=20):  \n",
        "    `(20 - 38) / (21.59) = -18 / 21.59 = -0.83`\n",
        "*   For the second person (Age=25):  \n",
        "    `(25 - 38) / (21.59) = -13 / 21.59 =-0.60`\n",
        "*   For the last person (Age=80):  \n",
        "    `(80 - 38) / (21.59) = 42 / 21.59 = 1.94`\n",
        "\n",
        "**Result:** The normalized ages are `[-0.83 , -0.60 ,-0.37 , -0.13 , 1.94]`\n"
      ],
      "metadata": {
        "id": "yV-FBU-gVlWD"
      }
    },
    {
      "cell_type": "code",
      "source": [
        "from sklearn.preprocessing import StandardScaler\n",
        "'''  This imports the StandardScaler class from scikit-learn's preprocessing module.\n",
        "     It standardizes data by transforming it to have a mean of 0 and a standard deviation of 1 using the formula: (x - mean) / standard_deviation.'''\n",
        "scaler = StandardScaler()\n",
        "df['Z_Score_Age'] = scaler.fit_transform(df[['Age']]).round(2)\n",
        "''' Creates a StandardScaler object that will calculate the mean and standard deviation needed for standardization.\n",
        "    Fits the scaler to the 'Age' column, transforms the values to z-scores, and adds them as a new column 'Z_Score_Age' in the DataFrame.'''\n",
        "\n",
        "print(df)"
      ],
      "metadata": {
        "colab": {
          "base_uri": "https://localhost:8080/"
        },
        "id": "sSThTpUYV9Re",
        "outputId": "828d1e83-cdbb-4463-a5a7-5ebfc1d917cc"
      },
      "execution_count": null,
      "outputs": [
        {
          "output_type": "stream",
          "name": "stdout",
          "text": [
            "   Age  Salary (£)  Z_Score_Age\n",
            "0   20       30000        -0.83\n",
            "1   25       35000        -0.60\n",
            "2   30       40000        -0.37\n",
            "3   35       45000        -0.14\n",
            "4   80      100000         1.95\n"
          ]
        }
      ]
    },
    {
      "cell_type": "markdown",
      "source": [
        "**Understand Z_Score_Age:**\n",
        "Z-scores tell us how far each value is from the average, measured in standard deviations:\n",
        "\n",
        "Negative values = Below average\n",
        "\n",
        "Positive values = Above average\n",
        "\n",
        "Zero = Exactly average\n",
        "\n",
        "Example: Z-score of -0.83 for age 20 means \"20 is 0.83 standard deviations younger than the average person in this dataset.\"\n",
        "* Understand Standard deviation concept."
      ],
      "metadata": {
        "id": "lVwm2frhbla6"
      }
    },
    {
      "cell_type": "markdown",
      "source": [
        "\n",
        "### **3. Decimal Scaling Normalization**\n",
        "\n",
        "Moves the decimal point based on the maximum absolute value.\n",
        "\n",
        " **Formula:**\n",
        "```\n",
        "x' =  x / (10^j)\n",
        "```\n",
        "**Let's break down the formula**\n",
        "* `x'` :normalized value.\n",
        "* `x` : original value.\n",
        "* `j` :length of max number**"
      ],
      "metadata": {
        "id": "whj_bv5rcaCq"
      }
    },
    {
      "cell_type": "markdown",
      "source": [
        "**Example 1: Manual Calculation**\n",
        "\n",
        "Let's say we have the `Age` data for a group of people: `[20, 25, 30, 35, 80]`\n",
        "\n",
        "**Step 1: Find  max absolute value**\n",
        "\n",
        "* `max(|x'|)=80`\n",
        "\n",
        "**Step 2: Find j such that (80 / 10^j) < 1**\n",
        "\n",
        "* **`10^j > 80 ` ----`j=2`    ( since 10^2 = 100 >80 )**\n",
        "*   For the first person (Age=20):  \n",
        "    `(20) / (100) = 0.20`\n",
        "*   For the second person (Age=25):  \n",
        "    `(25) / (100) = 0.25`\n",
        "*   For the last person (Age=80):  \n",
        "    `(80) / (100) = 0.80`\n",
        "\n",
        "**Result:** The normalized ages are `[ 0.20 , 0.25 , 0.30 , 0.35 , 0.80 ]"
      ],
      "metadata": {
        "id": "QYvOVXU7d7Nl"
      }
    },
    {
      "cell_type": "code",
      "source": [
        "import numpy as np\n",
        "df['Decimal_Scaled_Age'] = (df['Age'] / (10 ** len(str(int(df['Age'].max()))))).round(2)\n",
        "'''This performs decimal scaling by dividing each age value by 10 raised to the number of digits in the maximum age.\n",
        "    It scales all ages to the range [-1, 1] and rounds to 2 decimal places, storing results in a new column 'Decimal_Scaled_Age'.\n",
        "Example: If max age is 80 (2 digits), it divides all ages by 10² = 100, so age 20 becomes 0.20.\n",
        "print(df)"
      ],
      "metadata": {
        "colab": {
          "base_uri": "https://localhost:8080/"
        },
        "id": "HpFw7_rpd83T",
        "outputId": "6e39678d-6d14-446d-fd45-f568032f947f"
      },
      "execution_count": null,
      "outputs": [
        {
          "output_type": "stream",
          "name": "stdout",
          "text": [
            "   Age  Salary (£)  Z_Score_Age  Decimal_Scaled_Age\n",
            "0   20       30000        -0.83                0.20\n",
            "1   25       35000        -0.60                0.25\n",
            "2   30       40000        -0.37                0.30\n",
            "3   35       45000        -0.14                0.35\n",
            "4   80      100000         1.95                0.80\n"
          ]
        }
      ]
    },
    {
      "cell_type": "markdown",
      "source": [
        "* **Min-Max Normalization** scales the data  into a **fixed range,usually 0 to 1**, preserving the original distribution while bounding values , which is useful for neural networks .\n",
        "\n",
        "* **Z-Scale Normalization** transforms data to have a ***mean of 0 and standard deviation of 1*** , making it  ideal for algorithm sensitive to feature scale , like SVM , KNN , and PCA .\n",
        "\n",
        "* **Decimal Scaling Normalization** simply **shifts the decimal point based on the maximum value** , providing  a quick and easy way to scale data between -1 and 1 .\n",
        "* ex:\n",
        "\"Think of normalizing student heights:\"\n",
        "\n",
        "Min-Max Normalization:\n",
        "\"Maps shortest student to 0, tallest to 1, others in between\"\n",
        "\n",
        "Z-Score Standardization:\n",
        "\"Shows how tall each student is compared to average height\"\n",
        " used in  Machine learning algorithms, dealing with outliers\n",
        "\n",
        "Decimal Scaling:\n",
        "\"Just moves the decimal point (180cm → 1.80)\" used in when we need smaller numbers.\n",
        "\n"
      ],
      "metadata": {
        "id": "NQoexV1MnLr7"
      }
    },
    {
      "cell_type": "markdown",
      "source": [],
      "metadata": {
        "id": "jGzPsTBmzPxS"
      }
    }
  ]
}