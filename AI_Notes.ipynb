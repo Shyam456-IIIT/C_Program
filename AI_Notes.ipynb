{
  "cells": [
    {
      "cell_type": "markdown",
      "metadata": {
        "id": "view-in-github",
        "colab_type": "text"
      },
      "source": [
        "<a href=\"https://colab.research.google.com/github/Shyam456-IIIT/C_Program/blob/main/AI_Notes.ipynb\" target=\"_parent\"><img src=\"https://colab.research.google.com/assets/colab-badge.svg\" alt=\"Open In Colab\"/></a>"
      ]
    },
    {
      "cell_type": "markdown",
      "id": "82c6f292-9284-4d13-bf15-ac6d8e40ddb1",
      "metadata": {
        "id": "82c6f292-9284-4d13-bf15-ac6d8e40ddb1"
      },
      "source": [
        "### **Introduction**\n",
        "\n",
        "    Imagine you have a story or a list of names written in a `.txt` file (like in Notepad). Your Python program can't see it unless you explicitly tell it to open the file and read it. Reading text files is the most basic way to get data into your program."
      ]
    },
    {
      "cell_type": "markdown",
      "id": "00a2746b-6b0e-4d61-a7a9-cd7ee6511e32",
      "metadata": {
        "id": "00a2746b-6b0e-4d61-a7a9-cd7ee6511e32"
      },
      "source": [
        "### **Definition**\n",
        "  **Text File (`.txt`):** A simple file that contains only plain text without any special formatting (like bold, italics, etc.).\n",
        "  \n",
        "  **Reading a File:** The process where Python opens a file, takes its content, and makes it available for your program to use (e.g., store it in a variable).\n",
        "  \n",
        "  **`open()` Function:** The key Python function used to open a file. It creates a connection between your program and the file on your computer.\n"
      ]
    },
    {
      "cell_type": "markdown",
      "id": "3ce22d5f-e72f-418b-874e-f87ca8c129ed",
      "metadata": {
        "id": "3ce22d5f-e72f-418b-874e-f87ca8c129ed"
      },
      "source": [
        "**The `with` Statement (The Safe Way to Open Files)**\n",
        "    We use `with` to automatically and safely close the file after we are done. This is important to avoid errors and data corruption.  \n",
        "\n"
      ]
    },
    {
      "cell_type": "markdown",
      "id": "01842a0b-030a-41a2-bee7-c735274ca8ae",
      "metadata": {
        "id": "01842a0b-030a-41a2-bee7-c735274ca8ae"
      },
      "source": [
        "**Syntax:**"
      ]
    },
    {
      "cell_type": "markdown",
      "id": "b6fad0dd-d843-4feb-a0b8-a3bfb78c708d",
      "metadata": {
        "id": "b6fad0dd-d843-4feb-a0b8-a3bfb78c708d"
      },
      "source": [
        "```python\n",
        "with open('filename.txt', 'r') as file:\n",
        "    content = file.read()\n",
        "    # Do something with content\n",
        "# File is automatically closed here\n",
        "```\n"
      ]
    },
    {
      "cell_type": "markdown",
      "id": "dd0c3108-d23d-40ae-97e2-2fe735b0fb19",
      "metadata": {
        "id": "dd0c3108-d23d-40ae-97e2-2fe735b0fb19"
      },
      "source": [
        "#### **Examples with Explanations**\n",
        "\n",
        "**Example 1: Reading the Entire File at Once**\n",
        "\n",
        "Let's say we have a file called `greeting.txt` with the text: `Hello, E1 Students! Welcome to Python!`\n"
      ]
    },
    {
      "cell_type": "markdown",
      "id": "d293165e-f12a-46a9-a197-5e2eeac219cc",
      "metadata": {
        "id": "d293165e-f12a-46a9-a197-5e2eeac219cc"
      },
      "source": [
        "```python\n",
        "# Step 1: Open the file in read mode ('r')\n",
        "with open('greeting.txt', 'r') as file:\n",
        "    # Step 2: Read the entire content into a variable\n",
        "    text = file.read()\n",
        "\n",
        "# Step 3: Print the content\n",
        "print(text)\n",
        "```\n"
      ]
    },
    {
      "cell_type": "markdown",
      "id": "0c572d0b-6dd1-431d-b02f-ac751216fe54",
      "metadata": {
        "id": "0c572d0b-6dd1-431d-b02f-ac751216fe54"
      },
      "source": [
        "**Explanation:**\n",
        "1.  `open('greeting.txt', 'r')`: Opens `greeting.txt`. The `'r'` stands for \"read mode\".\n",
        "2.  `as file`: The opened file is now accessible via the variable `file`.\n",
        "3.  `file.read()`: This method reads **everything** in the file and stores it in the variable `text`.\n",
        "4.  `print(text)`: Outputs the content.\n"
      ]
    },
    {
      "cell_type": "markdown",
      "id": "00e058a0-ebf4-478b-8ae0-01b5816b77ba",
      "metadata": {
        "id": "00e058a0-ebf4-478b-8ae0-01b5816b77ba"
      },
      "source": [
        "**Output:**\n",
        "```\n",
        "Hello, E1 Students! Welcome to Python!\n",
        "```\n"
      ]
    },
    {
      "cell_type": "markdown",
      "id": "e7dc2059-9013-4cb4-aad9-d110e79e8cdf",
      "metadata": {
        "id": "e7dc2059-9013-4cb4-aad9-d110e79e8cdf"
      },
      "source": [
        "**Example 2: Reading Line by Line**\n",
        "\n",
        "Let's say we have `courses.txt`:\n",
        "```\n",
        "AI\n",
        "Python\n",
        "Matplotlib\n",
        "```\n"
      ]
    },
    {
      "cell_type": "markdown",
      "id": "4ceecad9-d10f-4f2e-a6a5-3f395148ca3f",
      "metadata": {
        "id": "4ceecad9-d10f-4f2e-a6a5-3f395148ca3f"
      },
      "source": [
        "```python\n",
        "with open('courses.txt', 'r') as file:\n",
        "    for line in file:  # Loops through each line in the file\n",
        "        print(f\"Course: {line.strip()}\")  # .strip() removes the invisible '\\n' newline character\n",
        "```\n"
      ]
    },
    {
      "cell_type": "markdown",
      "id": "2b5886d4-af83-43dd-97b3-3b9a7a6b1cdd",
      "metadata": {
        "id": "2b5886d4-af83-43dd-97b3-3b9a7a6b1cdd"
      },
      "source": [
        "**Output:**\n",
        "```\n",
        "Course: AI\n",
        "COurse: Python\n",
        "COurse: Matplotlib\n",
        "```\n"
      ]
    },
    {
      "cell_type": "markdown",
      "id": "ad58c041-2a6f-4ccd-b2a6-7175f830de30",
      "metadata": {
        "id": "ad58c041-2a6f-4ccd-b2a6-7175f830de30"
      },
      "source": [
        "**Example 3: Read Lines into a List**\n",
        "\n",
        "Assume `data.txt` contains:\n",
        "```\n",
        "Hello Students\n",
        "Welcome to Python Class\n",
        "```"
      ]
    },
    {
      "cell_type": "markdown",
      "id": "0909c500-aff0-4285-abd1-60558ea4e494",
      "metadata": {
        "id": "0909c500-aff0-4285-abd1-60558ea4e494"
      },
      "source": [
        "```python\n",
        "with open(\"data.txt\", \"r\") as f:\n",
        "    lines = f.readlines()\n",
        "\n",
        "print(lines)\n",
        "```\n",
        "\n",
        "**Output:**\n",
        "\n",
        "```python\n",
        "['Hello Students\\n', 'Welcome to Python Class\\n']\n",
        "```"
      ]
    },
    {
      "cell_type": "markdown",
      "id": "c7c3402d-9072-4244-bea7-362507204ae6",
      "metadata": {
        "id": "c7c3402d-9072-4244-bea7-362507204ae6"
      },
      "source": [
        "**Example 4: Counting Words in a Text File**\n",
        "\n",
        "```python\n",
        "with open(\"data.txt\", \"r\") as f:\n",
        "    text = f.read()\n",
        "\n",
        "words = text.split()\n",
        "print(\"Total words:\", len(words))\n",
        "```\n",
        "\n",
        "**Output:**\n",
        "\n",
        "```\n",
        "Total words: 5\n",
        "```\n"
      ]
    },
    {
      "cell_type": "markdown",
      "id": "b40b6e0b-b2cb-4ea1-b7b9-171fcbbd31f0",
      "metadata": {
        "id": "b40b6e0b-b2cb-4ea1-b7b9-171fcbbd31f0"
      },
      "source": [
        "### **Introduction**\n",
        "What if your data is more complex, like a spreadsheet with rows and columns? A `CSV` (Comma-Separated Values) file is exactly that. It's like a simple Excel sheet. While you *could* read it as a text file, it would be messy. **Pandas** is a superhero library in Python that makes working with tabular data (like CSV files) incredibly easy.\n"
      ]
    },
    {
      "cell_type": "markdown",
      "id": "eac658b6-7fec-4b38-9ded-8fb3bd8834fe",
      "metadata": {
        "id": "eac658b6-7fec-4b38-9ded-8fb3bd8834fe"
      },
      "source": [
        "### **Definition**\n",
        "*   **CSV File:** A file where each line represents a row of data, and the values in each row are separated by commas. CSV stands for **Comma-Separated Values** — a simple text format for storing tabular data.\n",
        "    *   Example Row: `Alice,25,London`\n",
        "*   **Pandas:** A powerful and popular Python library for data manipulation and analysis.\n",
        "*   **DataFrame:** The most important pandas object. It's a 2-dimensional table with rows and columns, just like a spreadsheet in Excel or Google Sheets.\n"
      ]
    },
    {
      "cell_type": "markdown",
      "id": "01f6d3e2-c0bc-4d81-a3ad-b193ac75ea32",
      "metadata": {
        "id": "01f6d3e2-c0bc-4d81-a3ad-b193ac75ea32"
      },
      "source": [
        "#### **First, You Must Import Pandas**\n",
        "Before you can use it, you need to tell Python you need it. The common shortcut is `pd`.\n",
        "\n",
        "```python\n",
        "import pandas as pd\n",
        "```\n"
      ]
    },
    {
      "cell_type": "markdown",
      "id": "aa94f0a6-7ec8-448c-a429-7d671d850089",
      "metadata": {
        "id": "aa94f0a6-7ec8-448c-a429-7d671d850089"
      },
      "source": [
        "#### **Examples with Explanations**\n",
        "\n",
        "**Example 1: Reading a CSV File into a DataFrame**\n",
        "\n",
        "Let's say we have a file `employees.csv`:\n",
        "```csv\n",
        "Name,Age,Department,Salary\n",
        "Alice,25,Engineering,50000\n",
        "Bob,30,Marketing,45000\n",
        "Charlie,35,Sales,40000\n",
        "```\n",
        "\n",
        "```python\n",
        "import pandas as pd\n",
        "\n",
        "# Step 1: Read the CSV file\n",
        "df = pd.read_csv('employees.csv')\n",
        "\n",
        "# Step 2: Display the first few rows to see the data\n",
        "print(df.head())\n",
        "```\n",
        "\n",
        "**Explanation:**\n",
        "1.  `import pandas as pd`: Imports the pandas library.\n",
        "2.  `pd.read_csv('employees.csv')`: This single function does all the hard work. It reads the CSV file, figures out the columns, and creates a DataFrame.\n",
        "3.  `df = ...`: We store this DataFrame in a variable named `df` (a common convention for DataFrames).\n",
        "4.  `df.head()`: Displays the first 5 rows of the DataFrame. Perfect for a quick look.\n",
        "\n",
        "**Output:**\n",
        "```\n",
        "      Name  Age    Department  Salary\n",
        "0    Alice   25  Engineering   50000\n",
        "1      Bob   30    Marketing   45000\n",
        "2  Charlie   35        Sales   40000\n",
        "```\n",
        "*Notice how pandas automatically adds an index (0, 1, 2) on the left!*\n"
      ]
    },
    {
      "cell_type": "markdown",
      "id": "d0b6ecbd-e3d7-4206-a19f-acf1d8d60698",
      "metadata": {
        "id": "d0b6ecbd-e3d7-4206-a19f-acf1d8d60698"
      },
      "source": [
        "**Example 2: Basic Data Manipulation**\n",
        "\n",
        "Once the data is in a DataFrame, we can do many things easily.\n",
        "\n",
        "```python\n",
        "import pandas as pd\n",
        "df = pd.read_csv('employees.csv')\n",
        "\n",
        "# 1. Get a single column (e.g., just the names)\n",
        "names = df['Name']\n",
        "print(\"Names Column:\\n\", names)\n",
        "\n",
        "# 2. Get basic statistics for numerical columns\n",
        "print(\"\\nBasic Statistics:\\n\", df.describe())\n",
        "\n",
        "# 3. Filter data (e.g., find employees in Engineering)\n",
        "engineering_team = df[df['Department'] == 'Engineering']\n",
        "print(\"\\nEngineering Team:\\n\", engineering_team)\n",
        "\n",
        "# 4. Add a new column (e.g., a bonus of 5% of salary)\n",
        "df['Bonus'] = df['Salary'] * 0.05\n",
        "print(\"\\nDataFrame with Bonus:\\n\", df)\n",
        "```\n",
        "\n",
        "**Explanation:**\n",
        "1.  `df['Name']`: Uses square brackets to select a single column.\n",
        "2.  `df.describe()`: Provides a summary of count, mean, standard deviation, etc., for numerical columns (Age, Salary).\n",
        "3.  `df[df['Department'] == 'Engineering']`: This is a **filter**. It looks inside the `Department` column and only keeps the rows where the value is exactly `'Engineering'`.\n",
        "4.  `df['Bonus'] = ...`: Creates a brand new column called `'Bonus'` and calculates its value for each row.\n",
        "\n"
      ]
    },
    {
      "cell_type": "markdown",
      "id": "e1e9e70f-a9a6-4ed7-bc6f-57088c849a14",
      "metadata": {
        "id": "e1e9e70f-a9a6-4ed7-bc6f-57088c849a14"
      },
      "source": [
        "Example file: `students.csv`\n",
        "\n",
        "```\n",
        "Name,Branch,Marks\n",
        "Anita,CSE,85\n",
        "Ravi,EEE,78\n",
        "Sneha,ECE,90\n",
        "```\n",
        "**Example 3: Accessing Columns and Rows**\n",
        "\n",
        "```python\n",
        "# Access single column\n",
        "print(df[\"Name\"])\n",
        "\n",
        "# Access multiple columns\n",
        "print(df[[\"Name\", \"Marks\"]])\n",
        "\n",
        "# Access rows by index\n",
        "print(df.iloc[1])   # 2nd row\n",
        "```\n",
        "**Example 4: Filtering Data**\n",
        "\n",
        "```python\n",
        "# Students who scored above 80\n",
        "high_scorers = df[df[\"Marks\"] > 80]\n",
        "print(high_scorers)\n",
        "```\n",
        "\n",
        "**Output:**\n",
        "\n",
        "```\n",
        "    Name Branch  Marks\n",
        "0   Anita    CSE     85\n",
        "2   Sneha    ECE     90\n",
        "```\n",
        "**Example 5: Adding and Modifying Columns**\n",
        "\n",
        "```python\n",
        "# Add Grade based on marks\n",
        "df[\"Grade\"] = [\"A\" if m >= 80 else \"B\" for m in df[\"Marks\"]]\n",
        "print(df)\n",
        "```\n",
        "\n",
        "**Output:**\n",
        "\n",
        "```\n",
        "    Name Branch  Marks Grade\n",
        "0   Anita    CSE     85     A\n",
        "1    Ravi    EEE     78     B\n",
        "2   Sneha    ECE     90     A\n",
        "```\n",
        "\n",
        "**Example 6: Sorting and Aggregation**\n",
        "\n",
        "```python\n",
        "# Sort by marks\n",
        "sorted_df = df.sort_values(by=\"Marks\", ascending=False)\n",
        "print(sorted_df)\n",
        "\n",
        "# Average marks\n",
        "avg = df[\"Marks\"].mean()\n",
        "print(\"Average Marks:\", avg)\n",
        "```\n",
        "\n",
        "**Output:**\n",
        "\n",
        "```\n",
        "Average Marks: 84.33\n",
        "```\n",
        "\n",
        "**Example 7: Writing Data Back to CSV**\n",
        "\n",
        "```python\n",
        "df.to_csv(\"updated_students.csv\", index=False)\n",
        "print(\"File saved successfully!\")\n",
        "```"
      ]
    }
  ],
  "metadata": {
    "kernelspec": {
      "display_name": "Python 3 (ipykernel)",
      "language": "python",
      "name": "python3"
    },
    "language_info": {
      "codemirror_mode": {
        "name": "ipython",
        "version": 3
      },
      "file_extension": ".py",
      "mimetype": "text/x-python",
      "name": "python",
      "nbconvert_exporter": "python",
      "pygments_lexer": "ipython3",
      "version": "3.13.1"
    },
    "colab": {
      "provenance": [],
      "include_colab_link": true
    }
  },
  "nbformat": 4,
  "nbformat_minor": 5
}