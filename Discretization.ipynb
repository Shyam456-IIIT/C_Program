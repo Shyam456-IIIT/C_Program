{
  "nbformat": 4,
  "nbformat_minor": 0,
  "metadata": {
    "colab": {
      "provenance": [],
      "include_colab_link": true
    },
    "kernelspec": {
      "name": "python3",
      "display_name": "Python 3"
    },
    "language_info": {
      "name": "python"
    }
  },
  "cells": [
    {
      "cell_type": "markdown",
      "metadata": {
        "id": "view-in-github",
        "colab_type": "text"
      },
      "source": [
        "<a href=\"https://colab.research.google.com/github/Shyam456-IIIT/C_Program/blob/main/Discretization.ipynb\" target=\"_parent\"><img src=\"https://colab.research.google.com/assets/colab-badge.svg\" alt=\"Open In Colab\"/></a>"
      ]
    },
    {
      "cell_type": "markdown",
      "source": [
        "**Introduction**<br>\n",
        "&nbsp;&nbsp;&nbsp;&nbsp;&nbsp;Let us assume that a shopkeeper is giving discount for buying more than 10 items.So,the shopkeeper doesn't look at the exact number of items we buy.He only consider the number of items more than 10 or not.Here in this case we will use Discretization.\n",
        "<br>\n",
        "Here he categorize data into two parts.\n",
        "<br>\n",
        "1.less than 10(no discount)<br>\n",
        "2.more than 10(discount)<br>\n"
      ],
      "metadata": {
        "id": "E4mthNJ8alAG"
      }
    },
    {
      "cell_type": "markdown",
      "source": [
        "\n",
        "**Discretization(Binnning):** <br>\n",
        "  &nbsp;&nbsp;&nbsp;&nbsp;&nbsp;&nbsp;&nbsp;&nbsp;&nbsp;Discretization is a process of continuous data and continuous variables into discrete counter parts.\n",
        "\n",
        "        "
      ],
      "metadata": {
        "id": "QIUEjCUgWl_K"
      }
    },
    {
      "cell_type": "markdown",
      "source": [
        "**Steps in Discretization**<br>\n",
        "**Step1:**<br>\n",
        " Identify the continuous attribute like temperature,blood pressure,age,income<br>\n",
        " **Step2:**<br>\n",
        "Determine the number of intervals (bins) like 10-20,20-30,30-40 etc..<br>\n",
        "**Step3:**<br>\n",
        "Select a discretization category like young,middle-aged,old in age groups <br>\n",
        "**Step4:**<br>\n",
        "Apply cut points to the data\n"
      ],
      "metadata": {
        "id": "7qnMwFwvccip"
      }
    },
    {
      "cell_type": "code",
      "execution_count": null,
      "metadata": {
        "colab": {
          "base_uri": "https://localhost:8080/"
        },
        "id": "Nt6yGvSRWfmZ",
        "outputId": "ac4b3e1d-085d-4592-b550-27f64f0be8ba"
      },
      "outputs": [
        {
          "output_type": "stream",
          "name": "stdout",
          "text": [
            "['young', 'young', 'young', 'middle-aged', 'middle-aged', 'middle-aged', 'old']\n",
            "Categories (3, object): ['young' < 'middle-aged' < 'old']\n"
          ]
        }
      ],
      "source": [
        "#Example  code:\n",
        "import pandas as pd\n",
        "age=[18,25,26,38,44,56,80]\n",
        "parts=[0,30,60,80]\n",
        "names=['young','middle-aged','old']\n",
        "age_groups=pd.cut(age,bins=parts,labels=names,right=True)\n",
        "print(age_groups)\n"
      ]
    },
    {
      "cell_type": "markdown",
      "source": [
        "**Advantages of Discretization**<br>\n",
        "1.Improves the performance of some machine learning algorithms <br>\n",
        "2.makes data easier to understand and interpret.<br>\n",
        "3.It can handle outliers by putting them in \"low\" or \"high\" bin.<br>\n"
      ],
      "metadata": {
        "id": "drOQwHD0sXhu"
      }
    },
    {
      "cell_type": "markdown",
      "source": [
        "**Methods in discretization:**<br>\n",
        "**1.Equal-Width binning technique**<br>\n",
        "Equal-width binning divides the range of a continuous variable into intervals (bins) that all have the same width.\n",
        "<br>\n",
        "width=(max-min)/k &nbsp; &nbsp; &nbsp;(k=number of bins)\n"
      ],
      "metadata": {
        "id": "8-pb67bPvRwx"
      }
    },
    {
      "cell_type": "code",
      "source": [
        "import pandas as pd\n",
        "ages=[5, 12, 25, 36, 45, 52, 63, 75, 85, 95]   #width=(95-5)/4=22.5\n",
        "bins=[5,27.5,50,72.5,95]\n",
        "labels=[\"young\",\"adult\",\"middle\",\"old\"]\n",
        "age_groups=pd.cut(ages,bins=4,labels=labels,right=True)\n",
        "print(age_groups)\n"
      ],
      "metadata": {
        "id": "Zbfgb4MmuNhJ",
        "colab": {
          "base_uri": "https://localhost:8080/"
        },
        "outputId": "e72a1a57-cfbf-4c5e-b48c-52b3c92da149"
      },
      "execution_count": null,
      "outputs": [
        {
          "output_type": "stream",
          "name": "stdout",
          "text": [
            "['young', 'young', 'young', 'adult', 'adult', 'middle', 'middle', 'old', 'old', 'old']\n",
            "Categories (4, object): ['young' < 'adult' < 'middle' < 'old']\n"
          ]
        }
      ]
    },
    {
      "cell_type": "code",
      "source": [
        "import pandas as pd\n",
        "ages=[25,30,35,40,45,50,55,60,73,80]\n",
        "df=pd.DataFrame(ages,columns=['age'])\n",
        "#printing original data\n",
        "print(\"Original ages\\n\")\n",
        "print(df)\n",
        "#printing discretized data\n",
        "print(\"\\nDiscretized ages\\n\")\n",
        "bin_edges=[20,40,60,80]\n",
        "labels=[\"young\",\"middle\",\"old\"]\n",
        "df['age_group']=pd.cut(df['age'],bins=bin_edges,labels=labels,right=True)\n",
        "print(df)"
      ],
      "metadata": {
        "colab": {
          "base_uri": "https://localhost:8080/"
        },
        "id": "S9bGWuJbuE8c",
        "outputId": "be0a82fa-4f3e-423e-c6ed-d5b34ccc149d"
      },
      "execution_count": null,
      "outputs": [
        {
          "output_type": "stream",
          "name": "stdout",
          "text": [
            "Original ages\n",
            "\n",
            "   age\n",
            "0   25\n",
            "1   30\n",
            "2   35\n",
            "3   40\n",
            "4   45\n",
            "5   50\n",
            "6   55\n",
            "7   60\n",
            "8   73\n",
            "9   80\n",
            "\n",
            "Discretized ages\n",
            "\n",
            "   age age_group\n",
            "0   25     young\n",
            "1   30     young\n",
            "2   35     young\n",
            "3   40     young\n",
            "4   45    middle\n",
            "5   50    middle\n",
            "6   55    middle\n",
            "7   60    middle\n",
            "8   73       old\n",
            "9   80       old\n"
          ]
        }
      ]
    },
    {
      "cell_type": "markdown",
      "source": [
        "**Advantages:**<br>\n",
        "1.Simple and fast to implement.<br>\n",
        "2.Easy to interpret and explain.<br>\n",
        "3.Works well when data is uniformly distributed.<br>\n",
        "**Disadvantages:**<br>\n",
        "1.Sensitive to outliers — extreme values can stretch the range.<br>\n",
        "2.May produce uneven bin frequencies (some bins may have many or very few values).<br>\n",
        "3.Doesn’t consider data distribution — not ideal for skewed data.<br>"
      ],
      "metadata": {
        "id": "sQD_R4c08bVl"
      }
    },
    {
      "cell_type": "markdown",
      "source": [
        "**2.Equal-Frequency Binning:**<br>\n",
        "&nbsp;&nbsp;&nbsp;&nbsp;&nbsp;&nbsp;Equal-frequency binning (also known as quantile binning) is a data preprocessing technique used to divide a numeric variable into bins (or intervals) such that each bin contains approximately the same number of data points.<br>\n"
      ],
      "metadata": {
        "id": "B11tKmcF9XMw"
      }
    },
    {
      "cell_type": "code",
      "source": [
        "import pandas as pd\n",
        "\n",
        "marks = [18, 22, 25, 27, 29, 33, 35, 40, 42, 45, 47, 50, 52, 55, 60,80,88,90,99,100]\n",
        "df = pd.DataFrame(marks,columns=['marks'])\n",
        "df['grade']=pd.qcut(df['marks'],q=5,labels=[\"Ok\",\"Good\",\"very Good\",\"Excellent\",\"Outstanding\"])\n",
        "print(df)\n",
        "print(bins)"
      ],
      "metadata": {
        "colab": {
          "base_uri": "https://localhost:8080/"
        },
        "id": "ajZAiQyLAXgb",
        "outputId": "9ae2dde0-fcdb-4407-9474-ee115268cd71"
      },
      "execution_count": null,
      "outputs": [
        {
          "output_type": "stream",
          "name": "stdout",
          "text": [
            "    marks        grade\n",
            "0      18           Ok\n",
            "1      22           Ok\n",
            "2      25           Ok\n",
            "3      27           Ok\n",
            "4      29         Good\n",
            "5      33         Good\n",
            "6      35         Good\n",
            "7      40         Good\n",
            "8      42    very Good\n",
            "9      45    very Good\n",
            "10     47    very Good\n",
            "11     50    very Good\n",
            "12     52    Excellent\n",
            "13     55    Excellent\n",
            "14     60    Excellent\n",
            "15     80    Excellent\n",
            "16     88  Outstanding\n",
            "17     90  Outstanding\n",
            "18     99  Outstanding\n",
            "19    100  Outstanding\n",
            "0     (17.999, 28.0]\n",
            "1     (17.999, 28.0]\n",
            "2     (17.999, 28.0]\n",
            "3     (17.999, 28.0]\n",
            "4       (28.0, 40.0]\n",
            "5       (28.0, 40.0]\n",
            "6       (28.0, 40.0]\n",
            "7       (28.0, 40.0]\n",
            "8       (40.0, 48.5]\n",
            "9       (40.0, 48.5]\n",
            "10      (40.0, 48.5]\n",
            "11      (48.5, 60.0]\n",
            "12      (48.5, 60.0]\n",
            "13      (48.5, 60.0]\n",
            "14      (48.5, 60.0]\n",
            "dtype: category\n",
            "Categories (4, interval[float64, right]): [(17.999, 28.0] < (28.0, 40.0] < (40.0, 48.5] <\n",
            "                                           (48.5, 60.0]]\n"
          ]
        }
      ]
    },
    {
      "cell_type": "markdown",
      "source": [
        "**3.Custom/Domain Based Binning:**<br>\n",
        "Custom (or domain-based) binning means you manually define bin boundaries based on your domain knowledge, business rules, or logical thresholds — rather than relying on statistical quantiles or equal widths.<br>\n"
      ],
      "metadata": {
        "id": "GFxAIGp_GpVW"
      }
    },
    {
      "cell_type": "code",
      "source": [
        "import pandas as pd\n",
        "\n",
        "marks = [18, 22, 25, 27, 29, 33, 35, 40, 42, 45, 47, 50, 52, 55, 60, 80, 88, 90, 99, 100]\n",
        "df = pd.DataFrame({'marks': marks})\n",
        "\n",
        "# Custom / domain-based bins\n",
        "bins = [0, 40, 60, 75, 90, 100]  # manually chosen cutoffs\n",
        "labels = ['Fail', 'Pass', 'Average', 'Good', 'Excellent']\n",
        "\n",
        "df['grade'] = pd.cut(df['marks'], bins=bins, labels=labels, right=True)\n",
        "\n",
        "print(df)\n"
      ],
      "metadata": {
        "id": "hgQvRDrnHiEq",
        "outputId": "5cbd090a-224c-45d0-f1c8-bad0199bf433",
        "colab": {
          "base_uri": "https://localhost:8080/"
        }
      },
      "execution_count": null,
      "outputs": [
        {
          "output_type": "stream",
          "name": "stdout",
          "text": [
            "    marks      grade\n",
            "0      18       Fail\n",
            "1      22       Fail\n",
            "2      25       Fail\n",
            "3      27       Fail\n",
            "4      29       Fail\n",
            "5      33       Fail\n",
            "6      35       Fail\n",
            "7      40       Fail\n",
            "8      42       Pass\n",
            "9      45       Pass\n",
            "10     47       Pass\n",
            "11     50       Pass\n",
            "12     52       Pass\n",
            "13     55       Pass\n",
            "14     60       Pass\n",
            "15     80       Good\n",
            "16     88       Good\n",
            "17     90       Good\n",
            "18     99  Excellent\n",
            "19    100  Excellent\n"
          ]
        }
      ]
    },
    {
      "cell_type": "markdown",
      "source": [],
      "metadata": {
        "id": "LK6l9llt9G40"
      }
    }
  ]
}